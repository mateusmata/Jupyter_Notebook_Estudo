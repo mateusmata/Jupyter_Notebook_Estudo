{
 "cells": [
  {
   "cell_type": "markdown",
   "metadata": {},
   "source": [
    "# Modelo\n",
    "O objetivo aqui é desenvolver um padrão a ser adotados para todas as análises  \n",
    "1. Importar bibliotecas\n",
    "2. Importar dados\n",
    "3. Determinas as perguntas que se pretende responder\n",
    "3. Resumo dados\n",
    "    - Análise previa de quais os dados disponiveis\n",
    "    - Verificar Valores nulos e tipos dos dados (E fazer as mudanças necessarias)\n",
    "        - [referencia](http://fcpython.com/data-analysis/dealing-with-missing-data)\n",
    "    - Retirar dados que não serão utilizados\n",
    "4. Separar os dados que respondem as perguntas previamente levantadas\n",
    "6. Apresentar os resultados (Ex.: Graficos)\n",
    "7. Revisar o conteudo\n",
    "    - styling nos dataframes\n",
    "    - adição de imagens, videos, etc\n",
    "    - Revisar texto descritivo\n"
   ]
  },
  {
   "cell_type": "markdown",
   "metadata": {},
   "source": [
    "## 1 - Importando bibliotecas\n",
    "Abaixo estão as principais bibliotecas"
   ]
  },
  {
   "cell_type": "code",
   "execution_count": null,
   "metadata": {},
   "outputs": [],
   "source": [
    "import pandas as pd\n",
    "import numpy as np\n",
    "import matplotlib.pyplot as plt\n",
    "import seaborn as sns\n",
    "import datetime as dt"
   ]
  }
 ],
 "metadata": {
  "kernelspec": {
   "display_name": "Python 3",
   "language": "python",
   "name": "python3"
  },
  "language_info": {
   "codemirror_mode": {
    "name": "ipython",
    "version": 3
   },
   "file_extension": ".py",
   "mimetype": "text/x-python",
   "name": "python",
   "nbconvert_exporter": "python",
   "pygments_lexer": "ipython3",
   "version": "3.7.3"
  }
 },
 "nbformat": 4,
 "nbformat_minor": 2
}

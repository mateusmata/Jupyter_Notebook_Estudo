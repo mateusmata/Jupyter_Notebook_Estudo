{
 "cells": [
  {
   "cell_type": "markdown",
   "metadata": {},
   "source": [
    "# Usando Markdown\n",
    "   ### Esse notebook é uma base com exemplos das possibilidades do que dá pra fazer com o Markdown do Jupyter\n",
    "   ### - A principal referência está [aqui](https://nbviewer.jupyter.org/github/twistedhardware/mltutorial/blob/master/notebooks/jupyter/2.%20Markdown%20%26%20LaTeX.ipynb)\n",
    "   - Também tem a [documentação](https://jupyter-notebook.readthedocs.io/en/stable/examples/Notebook/Working%20With%20Markdown%20Cells.html)\n"
   ]
  },
  {
   "cell_type": "markdown",
   "metadata": {},
   "source": [
    "### Indice\n",
    "1. Markdown\n",
    "    1. Usando #\n",
    "    2. Heading com (-) e (=)\n",
    "    3. Usando HTML\n",
    "2. Estilo da Fonte\n",
    "3. Lista\n",
    "    - item\n",
    "       - subitem\n",
    "4. Multimidia\n",
    "    1. Imagem\n",
    "    2. GIF\n",
    "    3. Video\n",
    "5. Quote\n",
    "6. Tabela\n",
    "7. Code\n",
    "8. Caixa\n",
    "9. LaTeX\n",
    "10. Letras Gregas\n"
   ]
  },
  {
   "cell_type": "markdown",
   "metadata": {},
   "source": [
    "# Markdown\n",
    "Existem varios tamanhos possiveis para as fontes\n",
    "\n",
    "# H1\n",
    "## H2\n",
    "### H3\n",
    "#### H4\n",
    "##### H5\n",
    "###### H6\n",
    "\n",
    "Heading 1\n",
    "=========\n",
    "\n",
    "Heading 2\n",
    "---------\n",
    "\n",
    "Ou podemos usar HTML\n",
    "<h1>Abc</h1>\n",
    "<h2>Def</h2>\n",
    "<h3>Ghi</h3>"
   ]
  },
  {
   "cell_type": "markdown",
   "metadata": {},
   "source": [
    "# Font Styles\n",
    "\n",
    "**Bold Font** or __Bold Font__\n",
    "\n",
    "*Italic* or _Italic Font_\n",
    "\n",
    "~~Scratched Text~~\n",
    "\n",
    "Markdown doesn't support underline. but you can do that using HTML <u>Text</u>"
   ]
  },
  {
   "cell_type": "markdown",
   "metadata": {},
   "source": [
    "# Lists\n",
    "- item\n",
    "- item\n",
    " - subitem\n",
    " - subitem\n",
    "- item\n",
    "--------\n",
    "1. item\n",
    "2. item\n",
    " 1. sub item\n",
    " 2. sub item\n",
    "3. item"
   ]
  },
  {
   "cell_type": "markdown",
   "metadata": {},
   "source": [
    "# Imagem\n",
    "\n",
    "![Turing's Device](https://dadosedecisoes.com.br/wp-content/uploads/2018/04/jupyter_notebook.png \"Jupyter Notebook\")\n",
    "\n",
    "---\n",
    "# GIF\n",
    "![MATRIX](https://media1.tenor.com/images/e5c21d98f56c4af119b4e14b6a9df893/tenor.gif?itemid=4011236 \"Matrix\")"
   ]
  },
  {
   "cell_type": "markdown",
   "metadata": {},
   "source": [
    "# Video\n",
    "<iframe width=\"560\" height=\"315\" src=\"https://youtu.be/-F4WS8o-G2A\"></iframe>\n",
    "\n",
    "---\n",
    "# Video 2\n",
    "<video controls src=\"https://youtu.be/-F4WS8o-G2A\" />\n",
    "\n",
    "---"
   ]
  },
  {
   "cell_type": "markdown",
   "metadata": {},
   "source": [
    "# video 3\n",
    "[![Everything Is AWESOME](http://i.imgur.com/Ot5DWAW.png)](https://youtu.be/StTqXEQ2l-Y?t=35s \"Everything Is AWESOME\")\n",
    "\n",
    "# video 4"
   ]
  },
  {
   "cell_type": "code",
   "execution_count": 1,
   "metadata": {},
   "outputs": [
    {
     "data": {
      "text/html": [
       "\n",
       "        <iframe\n",
       "            width=\"400\"\n",
       "            height=\"300\"\n",
       "            src=\"https://www.youtube.com/embed/StTqXEQ2l-Y?t=35s\"\n",
       "            frameborder=\"0\"\n",
       "            allowfullscreen\n",
       "        ></iframe>\n",
       "        "
      ],
      "text/plain": [
       "<IPython.lib.display.YouTubeVideo at 0x1a590553a90>"
      ]
     },
     "execution_count": 1,
     "metadata": {},
     "output_type": "execute_result"
    }
   ],
   "source": [
    "from IPython.display import YouTubeVideo\n",
    "YouTubeVideo('StTqXEQ2l-Y?t=35s')"
   ]
  },
  {
   "cell_type": "markdown",
   "metadata": {},
   "source": [
    "# Quotes\n",
    "> \"Apenas que... busquem conhecimento\"\n",
    ">\n",
    "> [Bilu, E.T.](https://m.desciclopedia.org/wiki/ET_Bilu)"
   ]
  },
  {
   "cell_type": "markdown",
   "metadata": {},
   "source": [
    "# Tabela\n",
    "| Tables        | Are           | Cool  |\n",
    "| ------------- |:-------------:| -----:|\n",
    "| col 3 is      | right-aligned |  1600 |\n",
    "| col 2 is      | centered      |    12 |\n",
    "| zebra stripes | are neat      |     1 |"
   ]
  },
  {
   "cell_type": "markdown",
   "metadata": {},
   "source": [
    "# code\n",
    "Python Code:\n",
    "```python\n",
    "x = 5\n",
    "print \"%.2f\" % x\n",
    "```"
   ]
  },
  {
   "cell_type": "markdown",
   "metadata": {},
   "source": [
    "# Caixa\n",
    "        Duas tabulações"
   ]
  },
  {
   "cell_type": "markdown",
   "metadata": {},
   "source": [
    "# LaTeX\n",
    "##### You can use LaTeX in line by like this $y = x^2$ or in block like this $$y = x^2$$\n",
    "- Add:\n",
    " - $x + y$\n",
    "\n",
    "- Subtract:\n",
    " - $x - y$\n",
    "\n",
    "- Multiply\n",
    " - $x * y$\n",
    " - $x \\times y$ \n",
    " - $x . y$ \n",
    "\n",
    "- Divide\n",
    " - $x / y$\n",
    " - $x \\div y$\n",
    " - $\\frac{x}{y}$\n",
    "\n",
    "- $\\pi \\approx 3.14159$\n",
    "- ${1 \\over 0} \\neq \\inf$\n",
    "- $0 < x > 1$\n",
    "- $0 \\leq x \\geq 1$\n",
    "\n",
    "Fraçoes\n",
    "- $^1/_2$\n",
    "- $\\frac{1}{2x}$\n",
    "- ${3 \\over 4}$\n",
    "\n",
    "---\n",
    "\n",
    "$$f(x) = x^2 - x^{1 \\over \\pi}$$\n",
    "$$f(X,n) = X_n + X_{n-1}$$\n",
    "\n",
    "---\n",
    "\n",
    "$$f(x) = \\sqrt[3]{2x} + \\sqrt{x-2}$$\n",
    "\n",
    "---\n",
    "$$\\sum\\limits_{x=1}^{\\infty} {1 \\over x} = 2$$\n",
    "$$\\prod\\limits_{i=1}^{n} x_i - 1$$\n",
    "\n",
    "---\n",
    "$$\\lim\\limits_{x \\to 0^+} {1 \\over 0} = \\inf$$\n",
    "$$\\int\\limits_a^b 2x \\, dx$$\n",
    "\n",
    "---\n",
    "$f(x) =\n",
    "\\left\\{\n",
    "    \\begin{array}{ll}\n",
    "        0  & \\mbox{if } x = 0 \\\\\n",
    "        {1 \\over x} & \\mbox{if } x \\neq 0\n",
    "    \\end{array}\n",
    "\\right.$\n",
    "\n",
    "---\n",
    "$f(x) =\\left\\{\\begin{array}{ll}0  & \\mbox{if } x = 0 \\\\{1 \\over x} & \\mbox{if } x \\neq 0\\end{array}\\right.$\n"
   ]
  },
  {
   "cell_type": "markdown",
   "metadata": {},
   "source": [
    "# letras gregas\n",
    "\n",
    "| Small Letter          | Capical Letter       | Alervative                  |\n",
    "| --------------------- | -------------------- | --------------------------- |\n",
    "| $\\alpha$   `\\alpha`   | $A$ `A`              |                             |\n",
    "| $\\beta$   `\\beta`     | $B$ `B`              |                             |\n",
    "| $\\gamma$   `\\gamma`   | $\\Gamma$ `\\Gamma`    |                             |\n",
    "| $\\delta$   `\\delta`   | $\\Delta$ `\\Delta`    |                             |\n",
    "| $\\epsilon$ `\\epsilon` | $E$ `E`              | $\\varepsilon$ `\\varepsilon` |\n",
    "| $\\zeta$   `\\zeta`     | $Z$ `Z`              |                             |\n",
    "| $\\eta$   `\\eta`       | $H$ `H`              |                             |\n",
    "| $\\theta$ `\\theta`     | $\\Theta$ `\\Theta`    | $\\vartheta$ `\\vartheta`     |\n",
    "| $\\iota$   `\\zeta`     | $I$ `I`              |                             |\n",
    "| $\\kappa$ `\\kappa`     | $K$ `K`              | $\\varkappa$ `\\varkappa`     |\n",
    "| $\\lambda$   `\\lambda` | $\\Lambda$ `\\Lambda`  |                             |\n",
    "| $\\mu$   `\\mu`         | $M$ `M`              |                             |\n",
    "| $\\nu$   `\\nu`         | $N$ `N`              |                             |\n",
    "| $\\xi$   `\\xi`         | $Xi$ `\\Xi`           |                             |\n",
    "| $\\omicron$ `\\omicron` | $O$ `O`              |                             |\n",
    "| $\\pi$ `\\pi`           | $\\Pi$ `\\Pi`          | $\\varpi$ `\\varpi`           |\n",
    "| $\\rho$ `\\rho`         | $P$ `P`              | $\\varrho$ `\\varrho`         |\n",
    "| $\\sigma$ `\\sigma`     | $\\Sigma$ `\\Sigma`    | $\\varsigma$ `\\varsigma`     |\n",
    "| $\\tau$   `\\tau`       | $T$ `T`              |                             |\n",
    "| $\\upsilon$ `\\upsilon` | $\\Upsilon$ `\\Upsilon`|                             |\n",
    "| $\\phi$ `\\phi`         | $\\Phi$ `\\Phi`        | $\\varphi$ `\\varphi`         |\n",
    "| $\\chi$   `\\chi`       | $X$ `X`              |                             |\n",
    "| $\\psi$ `\\psi`         | $\\Psi$ `\\Psi`        |                             |\n",
    "| $\\omega$   `\\omega`   | $\\Omega$ `\\Omega`    |                             |"
   ]
  },
  {
   "cell_type": "code",
   "execution_count": 1,
   "metadata": {},
   "outputs": [
    {
     "data": {
      "text/html": [
       "<h1>ABC</h1>\n",
       "<h4> Outra forma é usar HTML dentro do codigo</h4>\n"
      ],
      "text/plain": [
       "<IPython.core.display.HTML object>"
      ]
     },
     "metadata": {},
     "output_type": "display_data"
    }
   ],
   "source": [
    "%%html\n",
    "<h1>ABC</h1>\n",
    "<h4> Outra forma é usar HTML dentro do codigo</h4>"
   ]
  },
  {
   "cell_type": "code",
   "execution_count": null,
   "metadata": {},
   "outputs": [],
   "source": []
  },
  {
   "cell_type": "code",
   "execution_count": null,
   "metadata": {},
   "outputs": [],
   "source": []
  },
  {
   "cell_type": "markdown",
   "metadata": {},
   "source": [
    "[Mais sobre HTML](https://www.hostinger.com.br/tutoriais/o-que-e-html-conceitos-basicos/)"
   ]
  },
  {
   "cell_type": "code",
   "execution_count": null,
   "metadata": {},
   "outputs": [],
   "source": []
  }
 ],
 "metadata": {
  "kernelspec": {
   "display_name": "Python 3",
   "language": "python",
   "name": "python3"
  },
  "language_info": {
   "codemirror_mode": {
    "name": "ipython",
    "version": 3
   },
   "file_extension": ".py",
   "mimetype": "text/x-python",
   "name": "python",
   "nbconvert_exporter": "python",
   "pygments_lexer": "ipython3",
   "version": "3.7.3"
  }
 },
 "nbformat": 4,
 "nbformat_minor": 2
}

{
 "cells": [
  {
   "cell_type": "markdown",
   "metadata": {},
   "source": [
    "# IMDb - 2"
   ]
  },
  {
   "cell_type": "markdown",
   "metadata": {},
   "source": [
    "## introdução\n",
    "---\n",
    "![imdb](data:image/png;base64,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)\n",
    "\n",
    "---\n",
    "\n",
    "Este notebook é um complemento ao notebook que pode ser encontrado [Aqui](https://nbviewer.jupyter.org/github/mateusmata/Jupyter_Notebook_Estudo/blob/master/Arquivos%20ipynb/IMDB_ratings_Pessoal.ipynb).\n",
    "Os dados analisados nesse notebook foram extraidos da minha conta pessoal do [IMDB](https://tse3.mm.bing.net/th?id=OIP.NPrBTjZ5scqqgZ4ZBmkWnwHaHa&pid=Api)."
   ]
  },
  {
   "cell_type": "markdown",
   "metadata": {},
   "source": [
    "## importando bibliotecas e lendo os dados\n",
    "\n",
    "import pandas as pd\n",
    "import numpy as np\n",
    "import matplotlib.pyplot as plt\n",
    "import seaborn as sns\n",
    "import datetime as dt\n",
    "\n",
    "imdb = pd.read_csv(r'C:\\Users\\mateu\\OneDrive\\Documentos\\Programação\\dados\\IMDB_Mateus\\ratings.csv', encoding='ISO-8859-1')\n",
    "#covid_BR_19 = covid_BR_19.drop(columns=['region']).copy()\n",
    "imdb.head()\n",
    "\n",
    "## Resumo e preparação dos dados\n",
    "\n",
    "print(imdb.shape)\n",
    "print(imdb.columns)\n",
    "print(imdb.columns.size)\n",
    "\n",
    "O dataframe análisado tem 13 colunas e 338 filmes ou series registrados\n",
    "\n",
    "| n° | Coluna | Descrição | Status |\n",
    "| -- | :------------: | :------------------------------------------------------------------: | :-: |\n",
    "| 1 | Const | xxxxx | ❌ |\n",
    "| 2 | Your Rating | A nota que eu dei para o respectivo filme | ✔️ |\n",
    "| 3 | Date Rated | Data que avaliei. Pode ser util.. | ❓ |\n",
    "| 4 |Title | Titulo do filme | ✔️ |\n",
    "| 5 | URL | Url do correspondente ao filme citado no imdb, Pode ser excluida para a analise | ❌ |\n",
    "| 6 | Title Type | Descreve se é um filme ou uma série | ✔️ |\n",
    "| 7 | Runtimes | Tempo do filme em minutos | ✔️ |\n",
    "| 8 | Year | Ano de lançamento do Filme. imformação tmb aparece em 'release date' | ✔️ |\n",
    "| 9 | Genres | generos associado ao filme | ✔️ |\n",
    "| 10 | Num votes | Numero de votos do respectivo filme no site | ✔️ |\n",
    "| 11 | release Date | Dia do lançamento | ✔️ |\n",
    "| 12 | Directors | Diretor(es) do filme | ✔️ |\n",
    "| 13 | IMDB Rating | media do filme | ✔️ |\n",
    "\n",
    "#imdb = imdb.replace(['Date Rated', 'Title Type', 'Num Votes', 'Release Date'], ['data_nota', 'Tipo', 'Num_votes', 'Data_lancamento']) #AS colunas foram renomeadas\n",
    "imdb = imdb.rename(columns={'Your Rating':'Your_Rating','Date Rated': 'data_nota', 'Runtime (mins)':'Tempo', 'Title Type': 'Tipo', 'IMDb Rating':'IMDb_Rating', 'Num Votes':'Num_votes', 'Release Date':'Data_lancamento'}) #AS colunas foram renomeadas\n",
    "imdb = imdb.loc[imdb['Tipo'] == 'movie']\n",
    "imdb = imdb.drop(columns=['Const', 'URL', 'Tipo'])   # As colunas foram excluidas\n",
    "imdb.head()\n",
    "\n",
    "Pronto, agora todos os dados do dataframe 'imdb' são filmes"
   ]
  },
  {
   "cell_type": "code",
   "execution_count": null,
   "metadata": {},
   "outputs": [],
   "source": []
  }
 ],
 "metadata": {
  "kernelspec": {
   "display_name": "Python 3",
   "language": "python",
   "name": "python3"
  },
  "language_info": {
   "codemirror_mode": {
    "name": "ipython",
    "version": 3
   },
   "file_extension": ".py",
   "mimetype": "text/x-python",
   "name": "python",
   "nbconvert_exporter": "python",
   "pygments_lexer": "ipython3",
   "version": "3.7.3"
  }
 },
 "nbformat": 4,
 "nbformat_minor": 2
}
